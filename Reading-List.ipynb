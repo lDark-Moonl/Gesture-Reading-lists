{
 "cells": [
  {
   "cell_type": "markdown",
   "metadata": {
    "collapsed": true
   },
   "source": [
    "# Reading List\n",
    "###\n",
    "## Action and Gesture Recognition reading list\n",
    "### Data Augmentation\n",
    "* [Improving Deep Learning using Generic Data Augmentation](https://arxiv.org/pdf/1708.06020.pdf)[2017]\n",
    "\n",
    "### Action Recognition\n",
    "* [Action Recognition using Visual Attention](https://arxiv.org/pdf/1511.04119v3.pdf)[2016][code1](https://github.com/gaoqianmiao/Summer-project)[code2](https://github.com/kracwarlock/action-recognition-visual-attention)\n",
    "* [Action Tubelet Detector for Spatio-Temporal Action Localization](https://arxiv.org/pdf/1705.01861v3.pdf)[2017]\n",
    "\n",
    "### Gesture Recognition\n",
    "\n",
    "### Temporal Localization\n",
    "* [BSN: Boundary Sensitive Network for Temporal Action Proposal Generation](https://arxiv.org/pdf/1806.02964v3.pdf)[2018][code](https://github.com/wzmsltw/BSN-boundary-sensitive-network)\n",
    "* [CTAP: Complementary Temporal Action Proposal Generation](https://arxiv.org/pdf/1807.04821.pdf)[2018][code](https://github.com/jiyanggao/CTAP)\n",
    "* [SST: Single-Stream Temporal Action Proposals](http://vision.stanford.edu/pdf/buch2017cvpr.pdf)[2017][code](https://github.com/shyamal-b/sst/)\n",
    "* [Temporal Activity Detection in Untrimmed Videos with Recurrent Neural Networks](https://arxiv.org/pdf/1608.08128v3.pdf)[2016][code](https://github.com/imatge-upc/activitynet-2016-cvprw)\n",
    "* [TALL: Temporal Activity Localization via Language Query](https://arxiv.org/pdf/1705.02101v2.pdf)[2017][code](https://github.com/jiyanggao/TALL)\n",
    "\n",
    "\n",
    "\n",
    "### Spatial Localization\n",
    "* [Weakly and Semi Supervised Human Body Part Parsing via Pose-Guided Knowledge Transfer](https://arxiv.org/pdf/1805.04310v1.pdf)[2018]\n",
    "\n",
    "### Sign Language Translation\n",
    "\n",
    "### General Deep Learning Methods from Different Tasks\n"
   ]
  }
 ],
 "metadata": {
  "kernelspec": {
   "display_name": "Python 2",
   "language": "python",
   "name": "python2"
  },
  "language_info": {
   "codemirror_mode": {
    "name": "ipython",
    "version": 2
   },
   "file_extension": ".py",
   "mimetype": "text/x-python",
   "name": "python",
   "nbconvert_exporter": "python",
   "pygments_lexer": "ipython2",
   "version": "2.7.6"
  }
 },
 "nbformat": 4,
 "nbformat_minor": 0
}
